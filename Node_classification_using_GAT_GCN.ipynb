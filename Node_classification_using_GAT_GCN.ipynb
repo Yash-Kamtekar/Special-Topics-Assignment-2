{
  "nbformat": 4,
  "nbformat_minor": 0,
  "metadata": {
    "colab": {
      "provenance": [],
      "authorship_tag": "ABX9TyM1NJID7NZF8tIucKpY6JAq",
      "include_colab_link": true
    },
    "kernelspec": {
      "name": "python3",
      "display_name": "Python 3"
    },
    "language_info": {
      "name": "python"
    },
    "accelerator": "GPU",
    "gpuClass": "standard"
  },
  "cells": [
    {
      "cell_type": "markdown",
      "metadata": {
        "id": "view-in-github",
        "colab_type": "text"
      },
      "source": [
        "<a href=\"https://colab.research.google.com/github/Yash-Kamtekar/Special-Topics-Assignment-2/blob/main/Node_classification_using_GAT_GCN.ipynb\" target=\"_parent\"><img src=\"https://colab.research.google.com/assets/colab-badge.svg\" alt=\"Open In Colab\"/></a>"
      ]
    },
    {
      "cell_type": "code",
      "execution_count": 1,
      "metadata": {
        "colab": {
          "base_uri": "https://localhost:8080/"
        },
        "id": "RuXUZN8XGmu5",
        "outputId": "d6d6f938-ae81-48e9-d377-0792e409c759"
      },
      "outputs": [
        {
          "output_type": "stream",
          "name": "stdout",
          "text": [
            "\u001b[K     |████████████████████████████████| 435 kB 19.7 MB/s \n",
            "\u001b[K     |████████████████████████████████| 500 kB 55.5 MB/s \n",
            "\u001b[K     |████████████████████████████████| 121 kB 6.1 MB/s \n",
            "\u001b[K     |████████████████████████████████| 1.6 MB 5.9 MB/s \n",
            "\u001b[K     |████████████████████████████████| 83 kB 1.2 MB/s \n",
            "\u001b[K     |████████████████████████████████| 41 kB 268 kB/s \n",
            "\u001b[?25h  Building wheel for mplleaflet (setup.py) ... \u001b[?25l\u001b[?25hdone\n"
          ]
        }
      ],
      "source": [
        "import sys\n",
        "if 'google.colab' in sys.modules:\n",
        "  %pip install -q stellargraph[demos]==1.2.1"
      ]
    },
    {
      "cell_type": "code",
      "source": [
        "import pandas as pd\n",
        "import os\n",
        "\n",
        "import stellargraph as sg\n",
        "from stellargraph.mapper import FullBatchNodeGenerator\n",
        "from stellargraph.layer import GCN\n",
        "\n",
        "from tensorflow.keras import layers, optimizers, losses, metrics, Model\n",
        "from sklearn import preprocessing, model_selection\n",
        "from IPython.display import display, HTML\n",
        "import matplotlib.pyplot as plt\n",
        "%matplotlib inline"
      ],
      "metadata": {
        "id": "YiFh57b6S8J1"
      },
      "execution_count": 2,
      "outputs": []
    },
    {
      "cell_type": "markdown",
      "source": [
        "**Data Preparation**"
      ],
      "metadata": {
        "id": "STSh7e-rTJko"
      }
    },
    {
      "cell_type": "markdown",
      "source": [
        "**Loading the CORA Network(Cora is a citation network which is a directed graph)**"
      ],
      "metadata": {
        "id": "cCoyJzNETRwA"
      }
    },
    {
      "cell_type": "code",
      "source": [
        "dataset = sg.datasets.Cora()\n",
        "display(HTML(dataset.description))\n",
        "G, node_subjects = dataset.load()"
      ],
      "metadata": {
        "colab": {
          "base_uri": "https://localhost:8080/",
          "height": 51
        },
        "id": "BTRztj5zS8Gm",
        "outputId": "df62acd7-1e0c-402b-a357-46d7610136c5"
      },
      "execution_count": 3,
      "outputs": [
        {
          "output_type": "display_data",
          "data": {
            "text/plain": [
              "<IPython.core.display.HTML object>"
            ],
            "text/html": [
              "The Cora dataset consists of 2708 scientific publications classified into one of seven classes. The citation network consists of 5429 links. Each publication in the dataset is described by a 0/1-valued word vector indicating the absence/presence of the corresponding word from the dictionary. The dictionary consists of 1433 unique words."
            ]
          },
          "metadata": {}
        }
      ]
    },
    {
      "cell_type": "markdown",
      "source": [
        "**Printing the information of the loaded graph**"
      ],
      "metadata": {
        "id": "J7yiflJUT8h6"
      }
    },
    {
      "cell_type": "code",
      "source": [
        "print(G.info())"
      ],
      "metadata": {
        "colab": {
          "base_uri": "https://localhost:8080/"
        },
        "id": "YuRgGSdcTqi_",
        "outputId": "ac4ec795-320d-4f17-a21c-5e2831b278b5"
      },
      "execution_count": 4,
      "outputs": [
        {
          "output_type": "stream",
          "name": "stdout",
          "text": [
            "StellarGraph: Undirected multigraph\n",
            " Nodes: 2708, Edges: 5429\n",
            "\n",
            " Node types:\n",
            "  paper: [2708]\n",
            "    Features: float32 vector, length 1433\n",
            "    Edge types: paper-cites->paper\n",
            "\n",
            " Edge types:\n",
            "    paper-cites->paper: [5429]\n",
            "        Weights: all 1 (default)\n",
            "        Features: none\n"
          ]
        }
      ]
    },
    {
      "cell_type": "markdown",
      "source": [
        "**There are seven subjects and we aim at predicting \"subject\" feature on the nodes**"
      ],
      "metadata": {
        "id": "hdDQnLOfUFib"
      }
    },
    {
      "cell_type": "code",
      "source": [
        "node_subjects.value_counts().to_frame()"
      ],
      "metadata": {
        "colab": {
          "base_uri": "https://localhost:8080/",
          "height": 269
        },
        "id": "wJOnXR2pT6SP",
        "outputId": "82aea271-9aab-4d7d-e42f-b0dddd34c49c"
      },
      "execution_count": 5,
      "outputs": [
        {
          "output_type": "execute_result",
          "data": {
            "text/plain": [
              "                        subject\n",
              "Neural_Networks             818\n",
              "Probabilistic_Methods       426\n",
              "Genetic_Algorithms          418\n",
              "Theory                      351\n",
              "Case_Based                  298\n",
              "Reinforcement_Learning      217\n",
              "Rule_Learning               180"
            ],
            "text/html": [
              "\n",
              "  <div id=\"df-24920441-5cbf-4e54-b89f-e4e7b8cbd31a\">\n",
              "    <div class=\"colab-df-container\">\n",
              "      <div>\n",
              "<style scoped>\n",
              "    .dataframe tbody tr th:only-of-type {\n",
              "        vertical-align: middle;\n",
              "    }\n",
              "\n",
              "    .dataframe tbody tr th {\n",
              "        vertical-align: top;\n",
              "    }\n",
              "\n",
              "    .dataframe thead th {\n",
              "        text-align: right;\n",
              "    }\n",
              "</style>\n",
              "<table border=\"1\" class=\"dataframe\">\n",
              "  <thead>\n",
              "    <tr style=\"text-align: right;\">\n",
              "      <th></th>\n",
              "      <th>subject</th>\n",
              "    </tr>\n",
              "  </thead>\n",
              "  <tbody>\n",
              "    <tr>\n",
              "      <th>Neural_Networks</th>\n",
              "      <td>818</td>\n",
              "    </tr>\n",
              "    <tr>\n",
              "      <th>Probabilistic_Methods</th>\n",
              "      <td>426</td>\n",
              "    </tr>\n",
              "    <tr>\n",
              "      <th>Genetic_Algorithms</th>\n",
              "      <td>418</td>\n",
              "    </tr>\n",
              "    <tr>\n",
              "      <th>Theory</th>\n",
              "      <td>351</td>\n",
              "    </tr>\n",
              "    <tr>\n",
              "      <th>Case_Based</th>\n",
              "      <td>298</td>\n",
              "    </tr>\n",
              "    <tr>\n",
              "      <th>Reinforcement_Learning</th>\n",
              "      <td>217</td>\n",
              "    </tr>\n",
              "    <tr>\n",
              "      <th>Rule_Learning</th>\n",
              "      <td>180</td>\n",
              "    </tr>\n",
              "  </tbody>\n",
              "</table>\n",
              "</div>\n",
              "      <button class=\"colab-df-convert\" onclick=\"convertToInteractive('df-24920441-5cbf-4e54-b89f-e4e7b8cbd31a')\"\n",
              "              title=\"Convert this dataframe to an interactive table.\"\n",
              "              style=\"display:none;\">\n",
              "        \n",
              "  <svg xmlns=\"http://www.w3.org/2000/svg\" height=\"24px\"viewBox=\"0 0 24 24\"\n",
              "       width=\"24px\">\n",
              "    <path d=\"M0 0h24v24H0V0z\" fill=\"none\"/>\n",
              "    <path d=\"M18.56 5.44l.94 2.06.94-2.06 2.06-.94-2.06-.94-.94-2.06-.94 2.06-2.06.94zm-11 1L8.5 8.5l.94-2.06 2.06-.94-2.06-.94L8.5 2.5l-.94 2.06-2.06.94zm10 10l.94 2.06.94-2.06 2.06-.94-2.06-.94-.94-2.06-.94 2.06-2.06.94z\"/><path d=\"M17.41 7.96l-1.37-1.37c-.4-.4-.92-.59-1.43-.59-.52 0-1.04.2-1.43.59L10.3 9.45l-7.72 7.72c-.78.78-.78 2.05 0 2.83L4 21.41c.39.39.9.59 1.41.59.51 0 1.02-.2 1.41-.59l7.78-7.78 2.81-2.81c.8-.78.8-2.07 0-2.86zM5.41 20L4 18.59l7.72-7.72 1.47 1.35L5.41 20z\"/>\n",
              "  </svg>\n",
              "      </button>\n",
              "      \n",
              "  <style>\n",
              "    .colab-df-container {\n",
              "      display:flex;\n",
              "      flex-wrap:wrap;\n",
              "      gap: 12px;\n",
              "    }\n",
              "\n",
              "    .colab-df-convert {\n",
              "      background-color: #E8F0FE;\n",
              "      border: none;\n",
              "      border-radius: 50%;\n",
              "      cursor: pointer;\n",
              "      display: none;\n",
              "      fill: #1967D2;\n",
              "      height: 32px;\n",
              "      padding: 0 0 0 0;\n",
              "      width: 32px;\n",
              "    }\n",
              "\n",
              "    .colab-df-convert:hover {\n",
              "      background-color: #E2EBFA;\n",
              "      box-shadow: 0px 1px 2px rgba(60, 64, 67, 0.3), 0px 1px 3px 1px rgba(60, 64, 67, 0.15);\n",
              "      fill: #174EA6;\n",
              "    }\n",
              "\n",
              "    [theme=dark] .colab-df-convert {\n",
              "      background-color: #3B4455;\n",
              "      fill: #D2E3FC;\n",
              "    }\n",
              "\n",
              "    [theme=dark] .colab-df-convert:hover {\n",
              "      background-color: #434B5C;\n",
              "      box-shadow: 0px 1px 3px 1px rgba(0, 0, 0, 0.15);\n",
              "      filter: drop-shadow(0px 1px 2px rgba(0, 0, 0, 0.3));\n",
              "      fill: #FFFFFF;\n",
              "    }\n",
              "  </style>\n",
              "\n",
              "      <script>\n",
              "        const buttonEl =\n",
              "          document.querySelector('#df-24920441-5cbf-4e54-b89f-e4e7b8cbd31a button.colab-df-convert');\n",
              "        buttonEl.style.display =\n",
              "          google.colab.kernel.accessAllowed ? 'block' : 'none';\n",
              "\n",
              "        async function convertToInteractive(key) {\n",
              "          const element = document.querySelector('#df-24920441-5cbf-4e54-b89f-e4e7b8cbd31a');\n",
              "          const dataTable =\n",
              "            await google.colab.kernel.invokeFunction('convertToInteractive',\n",
              "                                                     [key], {});\n",
              "          if (!dataTable) return;\n",
              "\n",
              "          const docLinkHtml = 'Like what you see? Visit the ' +\n",
              "            '<a target=\"_blank\" href=https://colab.research.google.com/notebooks/data_table.ipynb>data table notebook</a>'\n",
              "            + ' to learn more about interactive tables.';\n",
              "          element.innerHTML = '';\n",
              "          dataTable['output_type'] = 'display_data';\n",
              "          await google.colab.output.renderOutput(dataTable, element);\n",
              "          const docLink = document.createElement('div');\n",
              "          docLink.innerHTML = docLinkHtml;\n",
              "          element.appendChild(docLink);\n",
              "        }\n",
              "      </script>\n",
              "    </div>\n",
              "  </div>\n",
              "  "
            ]
          },
          "metadata": {},
          "execution_count": 5
        }
      ]
    },
    {
      "cell_type": "markdown",
      "source": [
        "**Splitting the data into training and test data**"
      ],
      "metadata": {
        "id": "CdyRuv_RUqsu"
      }
    },
    {
      "cell_type": "markdown",
      "source": [
        "**Here we're taking 180 node labels for training, 460 for validation, and the rest for testing.**"
      ],
      "metadata": {
        "id": "IipVutsyU16Y"
      }
    },
    {
      "cell_type": "code",
      "source": [
        "train_subjects, test_subjects = model_selection.train_test_split(\n",
        "    node_subjects, train_size=180, test_size=None, stratify=node_subjects\n",
        ")\n",
        "val_subjects, test_subjects = model_selection.train_test_split(\n",
        "    test_subjects, train_size=460, test_size=None, stratify=test_subjects\n",
        ")"
      ],
      "metadata": {
        "id": "LsxE3zEMUieX"
      },
      "execution_count": 6,
      "outputs": []
    },
    {
      "cell_type": "code",
      "source": [
        "train_subjects.value_counts().to_frame()"
      ],
      "metadata": {
        "colab": {
          "base_uri": "https://localhost:8080/",
          "height": 269
        },
        "id": "jM1vPN7UVCyB",
        "outputId": "6aa81dcd-eb6f-4cca-855d-cf2fcee3461a"
      },
      "execution_count": 7,
      "outputs": [
        {
          "output_type": "execute_result",
          "data": {
            "text/plain": [
              "                        subject\n",
              "Neural_Networks              54\n",
              "Probabilistic_Methods        28\n",
              "Genetic_Algorithms           28\n",
              "Theory                       23\n",
              "Case_Based                   20\n",
              "Reinforcement_Learning       15\n",
              "Rule_Learning                12"
            ],
            "text/html": [
              "\n",
              "  <div id=\"df-8205f770-823b-4ba0-9a7b-b7e627910f33\">\n",
              "    <div class=\"colab-df-container\">\n",
              "      <div>\n",
              "<style scoped>\n",
              "    .dataframe tbody tr th:only-of-type {\n",
              "        vertical-align: middle;\n",
              "    }\n",
              "\n",
              "    .dataframe tbody tr th {\n",
              "        vertical-align: top;\n",
              "    }\n",
              "\n",
              "    .dataframe thead th {\n",
              "        text-align: right;\n",
              "    }\n",
              "</style>\n",
              "<table border=\"1\" class=\"dataframe\">\n",
              "  <thead>\n",
              "    <tr style=\"text-align: right;\">\n",
              "      <th></th>\n",
              "      <th>subject</th>\n",
              "    </tr>\n",
              "  </thead>\n",
              "  <tbody>\n",
              "    <tr>\n",
              "      <th>Neural_Networks</th>\n",
              "      <td>54</td>\n",
              "    </tr>\n",
              "    <tr>\n",
              "      <th>Probabilistic_Methods</th>\n",
              "      <td>28</td>\n",
              "    </tr>\n",
              "    <tr>\n",
              "      <th>Genetic_Algorithms</th>\n",
              "      <td>28</td>\n",
              "    </tr>\n",
              "    <tr>\n",
              "      <th>Theory</th>\n",
              "      <td>23</td>\n",
              "    </tr>\n",
              "    <tr>\n",
              "      <th>Case_Based</th>\n",
              "      <td>20</td>\n",
              "    </tr>\n",
              "    <tr>\n",
              "      <th>Reinforcement_Learning</th>\n",
              "      <td>15</td>\n",
              "    </tr>\n",
              "    <tr>\n",
              "      <th>Rule_Learning</th>\n",
              "      <td>12</td>\n",
              "    </tr>\n",
              "  </tbody>\n",
              "</table>\n",
              "</div>\n",
              "      <button class=\"colab-df-convert\" onclick=\"convertToInteractive('df-8205f770-823b-4ba0-9a7b-b7e627910f33')\"\n",
              "              title=\"Convert this dataframe to an interactive table.\"\n",
              "              style=\"display:none;\">\n",
              "        \n",
              "  <svg xmlns=\"http://www.w3.org/2000/svg\" height=\"24px\"viewBox=\"0 0 24 24\"\n",
              "       width=\"24px\">\n",
              "    <path d=\"M0 0h24v24H0V0z\" fill=\"none\"/>\n",
              "    <path d=\"M18.56 5.44l.94 2.06.94-2.06 2.06-.94-2.06-.94-.94-2.06-.94 2.06-2.06.94zm-11 1L8.5 8.5l.94-2.06 2.06-.94-2.06-.94L8.5 2.5l-.94 2.06-2.06.94zm10 10l.94 2.06.94-2.06 2.06-.94-2.06-.94-.94-2.06-.94 2.06-2.06.94z\"/><path d=\"M17.41 7.96l-1.37-1.37c-.4-.4-.92-.59-1.43-.59-.52 0-1.04.2-1.43.59L10.3 9.45l-7.72 7.72c-.78.78-.78 2.05 0 2.83L4 21.41c.39.39.9.59 1.41.59.51 0 1.02-.2 1.41-.59l7.78-7.78 2.81-2.81c.8-.78.8-2.07 0-2.86zM5.41 20L4 18.59l7.72-7.72 1.47 1.35L5.41 20z\"/>\n",
              "  </svg>\n",
              "      </button>\n",
              "      \n",
              "  <style>\n",
              "    .colab-df-container {\n",
              "      display:flex;\n",
              "      flex-wrap:wrap;\n",
              "      gap: 12px;\n",
              "    }\n",
              "\n",
              "    .colab-df-convert {\n",
              "      background-color: #E8F0FE;\n",
              "      border: none;\n",
              "      border-radius: 50%;\n",
              "      cursor: pointer;\n",
              "      display: none;\n",
              "      fill: #1967D2;\n",
              "      height: 32px;\n",
              "      padding: 0 0 0 0;\n",
              "      width: 32px;\n",
              "    }\n",
              "\n",
              "    .colab-df-convert:hover {\n",
              "      background-color: #E2EBFA;\n",
              "      box-shadow: 0px 1px 2px rgba(60, 64, 67, 0.3), 0px 1px 3px 1px rgba(60, 64, 67, 0.15);\n",
              "      fill: #174EA6;\n",
              "    }\n",
              "\n",
              "    [theme=dark] .colab-df-convert {\n",
              "      background-color: #3B4455;\n",
              "      fill: #D2E3FC;\n",
              "    }\n",
              "\n",
              "    [theme=dark] .colab-df-convert:hover {\n",
              "      background-color: #434B5C;\n",
              "      box-shadow: 0px 1px 3px 1px rgba(0, 0, 0, 0.15);\n",
              "      filter: drop-shadow(0px 1px 2px rgba(0, 0, 0, 0.3));\n",
              "      fill: #FFFFFF;\n",
              "    }\n",
              "  </style>\n",
              "\n",
              "      <script>\n",
              "        const buttonEl =\n",
              "          document.querySelector('#df-8205f770-823b-4ba0-9a7b-b7e627910f33 button.colab-df-convert');\n",
              "        buttonEl.style.display =\n",
              "          google.colab.kernel.accessAllowed ? 'block' : 'none';\n",
              "\n",
              "        async function convertToInteractive(key) {\n",
              "          const element = document.querySelector('#df-8205f770-823b-4ba0-9a7b-b7e627910f33');\n",
              "          const dataTable =\n",
              "            await google.colab.kernel.invokeFunction('convertToInteractive',\n",
              "                                                     [key], {});\n",
              "          if (!dataTable) return;\n",
              "\n",
              "          const docLinkHtml = 'Like what you see? Visit the ' +\n",
              "            '<a target=\"_blank\" href=https://colab.research.google.com/notebooks/data_table.ipynb>data table notebook</a>'\n",
              "            + ' to learn more about interactive tables.';\n",
              "          element.innerHTML = '';\n",
              "          dataTable['output_type'] = 'display_data';\n",
              "          await google.colab.output.renderOutput(dataTable, element);\n",
              "          const docLink = document.createElement('div');\n",
              "          docLink.innerHTML = docLinkHtml;\n",
              "          element.appendChild(docLink);\n",
              "        }\n",
              "      </script>\n",
              "    </div>\n",
              "  </div>\n",
              "  "
            ]
          },
          "metadata": {},
          "execution_count": 7
        }
      ]
    },
    {
      "cell_type": "markdown",
      "source": [
        "**We will use one-hot vectors that will be compared against the model's soft-max output for categorical data. To do this conversion we can use the LabelBinarizer transform from scikit-learn**"
      ],
      "metadata": {
        "id": "Bm4xAiUXVW1D"
      }
    },
    {
      "cell_type": "code",
      "source": [
        "target_encoding = preprocessing.LabelBinarizer()\n",
        "\n",
        "train_targets = target_encoding.fit_transform(train_subjects)\n",
        "val_targets = target_encoding.transform(val_subjects)\n",
        "test_targets = target_encoding.transform(test_subjects)"
      ],
      "metadata": {
        "id": "b5d0ayafVFbC"
      },
      "execution_count": 8,
      "outputs": []
    },
    {
      "cell_type": "markdown",
      "source": [
        "**Creating the GCN Layers**"
      ],
      "metadata": {
        "id": "PQfWOOnSVolW"
      }
    },
    {
      "cell_type": "markdown",
      "source": [
        "**GCN is a model which is used for Node Classification which is done with the help of FullBatchNodeGenerator**"
      ],
      "metadata": {
        "id": "gvOKSdv8WjZX"
      }
    },
    {
      "cell_type": "code",
      "source": [
        "generator = FullBatchNodeGenerator(G, method=\"gcn\")"
      ],
      "metadata": {
        "colab": {
          "base_uri": "https://localhost:8080/"
        },
        "id": "amgMDbqFVib4",
        "outputId": "9df63f1a-6351-4848-ae02-e1e18015447b"
      },
      "execution_count": 9,
      "outputs": [
        {
          "output_type": "stream",
          "name": "stdout",
          "text": [
            "Using GCN (local pooling) filters...\n"
          ]
        }
      ]
    },
    {
      "cell_type": "code",
      "source": [
        "train_gen = generator.flow(train_subjects.index, train_targets)"
      ],
      "metadata": {
        "id": "oRqWivWtX47B"
      },
      "execution_count": 10,
      "outputs": []
    },
    {
      "cell_type": "code",
      "source": [
        "gcn = GCN(\n",
        "    layer_sizes=[16, 16], activations=[\"relu\", \"relu\"], generator=generator, dropout=0.5\n",
        ")"
      ],
      "metadata": {
        "id": "UJJM2ERPW83P"
      },
      "execution_count": 11,
      "outputs": []
    },
    {
      "cell_type": "markdown",
      "source": [
        "**To create a Keras model we now expose the input and output tensors of the GCN model for node prediction**"
      ],
      "metadata": {
        "id": "TtRXZTFNXFZN"
      }
    },
    {
      "cell_type": "code",
      "source": [
        "x_inp, x_out = gcn.in_out_tensors()\n",
        "\n",
        "x_out"
      ],
      "metadata": {
        "colab": {
          "base_uri": "https://localhost:8080/"
        },
        "id": "4JAX74JUWSDJ",
        "outputId": "a8b44668-96c5-42a4-af3e-71a3e393120b"
      },
      "execution_count": 12,
      "outputs": [
        {
          "output_type": "execute_result",
          "data": {
            "text/plain": [
              "<KerasTensor: shape=(1, None, 16) dtype=float32 (created by layer 'gather_indices')>"
            ]
          },
          "metadata": {},
          "execution_count": 12
        }
      ]
    },
    {
      "cell_type": "code",
      "source": [
        "predictions = layers.Dense(units=train_targets.shape[1], activation=\"softmax\")(x_out)"
      ],
      "metadata": {
        "id": "yROztQcEXPN_"
      },
      "execution_count": 13,
      "outputs": []
    },
    {
      "cell_type": "markdown",
      "source": [
        "**Training the model**"
      ],
      "metadata": {
        "id": "-2TOfVceXUfV"
      }
    },
    {
      "cell_type": "code",
      "source": [
        "model = Model(inputs=x_inp, outputs=predictions)\n",
        "model.compile(\n",
        "    optimizer=optimizers.Adam(lr=0.01),\n",
        "    loss=losses.categorical_crossentropy,\n",
        "    metrics=[\"acc\"],\n",
        ")"
      ],
      "metadata": {
        "colab": {
          "base_uri": "https://localhost:8080/"
        },
        "id": "L1EP28e_XSOr",
        "outputId": "a68cef62-19d3-40fb-c286-e621ac22d431"
      },
      "execution_count": 14,
      "outputs": [
        {
          "output_type": "stream",
          "name": "stderr",
          "text": [
            "/usr/local/lib/python3.8/dist-packages/keras/optimizers/optimizer_v2/adam.py:110: UserWarning: The `lr` argument is deprecated, use `learning_rate` instead.\n",
            "  super(Adam, self).__init__(name, **kwargs)\n"
          ]
        }
      ]
    },
    {
      "cell_type": "markdown",
      "source": [
        "**Keeping track of the validation set**"
      ],
      "metadata": {
        "id": "Xl04kQNKXeL7"
      }
    },
    {
      "cell_type": "code",
      "source": [
        "val_gen = generator.flow(val_subjects.index, val_targets)"
      ],
      "metadata": {
        "id": "frwnhzUwXYrN"
      },
      "execution_count": 15,
      "outputs": []
    },
    {
      "cell_type": "code",
      "source": [
        "from tensorflow.keras.callbacks import EarlyStopping\n",
        "\n",
        "es_callback = EarlyStopping(monitor=\"val_acc\", patience=50, restore_best_weights=True)"
      ],
      "metadata": {
        "id": "MuZx4CNCXk5J"
      },
      "execution_count": 16,
      "outputs": []
    },
    {
      "cell_type": "code",
      "source": [
        "history = model.fit(\n",
        "    train_gen,\n",
        "    epochs=200,\n",
        "    validation_data=val_gen,\n",
        "    verbose=2,\n",
        "    shuffle=False,  # this should be False, since shuffling data means shuffling the whole graph\n",
        "    callbacks=[es_callback],\n",
        ")"
      ],
      "metadata": {
        "colab": {
          "base_uri": "https://localhost:8080/"
        },
        "id": "LWgYAztLXmxl",
        "outputId": "9a2db6a9-82f5-4fa1-994f-a54601e5d7d2"
      },
      "execution_count": 17,
      "outputs": [
        {
          "output_type": "stream",
          "name": "stdout",
          "text": [
            "Epoch 1/200\n",
            "1/1 - 4s - loss: 1.9305 - acc: 0.2833 - val_loss: 1.8815 - val_acc: 0.3043 - 4s/epoch - 4s/step\n",
            "Epoch 2/200\n",
            "1/1 - 0s - loss: 1.8758 - acc: 0.3056 - val_loss: 1.8213 - val_acc: 0.3065 - 109ms/epoch - 109ms/step\n",
            "Epoch 3/200\n",
            "1/1 - 0s - loss: 1.7939 - acc: 0.3056 - val_loss: 1.7558 - val_acc: 0.3065 - 163ms/epoch - 163ms/step\n",
            "Epoch 4/200\n",
            "1/1 - 0s - loss: 1.6949 - acc: 0.3056 - val_loss: 1.6893 - val_acc: 0.3065 - 108ms/epoch - 108ms/step\n",
            "Epoch 5/200\n",
            "1/1 - 0s - loss: 1.6343 - acc: 0.3222 - val_loss: 1.6245 - val_acc: 0.3087 - 112ms/epoch - 112ms/step\n",
            "Epoch 6/200\n",
            "1/1 - 0s - loss: 1.5490 - acc: 0.3278 - val_loss: 1.5569 - val_acc: 0.3348 - 84ms/epoch - 84ms/step\n",
            "Epoch 7/200\n",
            "1/1 - 0s - loss: 1.4660 - acc: 0.3611 - val_loss: 1.4886 - val_acc: 0.3913 - 88ms/epoch - 88ms/step\n",
            "Epoch 8/200\n",
            "1/1 - 0s - loss: 1.3787 - acc: 0.4389 - val_loss: 1.4223 - val_acc: 0.4109 - 118ms/epoch - 118ms/step\n",
            "Epoch 9/200\n",
            "1/1 - 0s - loss: 1.2682 - acc: 0.4444 - val_loss: 1.3613 - val_acc: 0.4326 - 107ms/epoch - 107ms/step\n",
            "Epoch 10/200\n",
            "1/1 - 0s - loss: 1.2082 - acc: 0.5000 - val_loss: 1.3023 - val_acc: 0.4913 - 87ms/epoch - 87ms/step\n",
            "Epoch 11/200\n",
            "1/1 - 0s - loss: 1.1544 - acc: 0.5000 - val_loss: 1.2438 - val_acc: 0.5696 - 95ms/epoch - 95ms/step\n",
            "Epoch 12/200\n",
            "1/1 - 0s - loss: 1.0714 - acc: 0.6278 - val_loss: 1.1854 - val_acc: 0.5804 - 74ms/epoch - 74ms/step\n",
            "Epoch 13/200\n",
            "1/1 - 0s - loss: 1.0373 - acc: 0.6222 - val_loss: 1.1264 - val_acc: 0.5935 - 108ms/epoch - 108ms/step\n",
            "Epoch 14/200\n",
            "1/1 - 0s - loss: 0.9094 - acc: 0.6722 - val_loss: 1.0679 - val_acc: 0.6174 - 118ms/epoch - 118ms/step\n",
            "Epoch 15/200\n",
            "1/1 - 0s - loss: 0.8260 - acc: 0.6944 - val_loss: 1.0099 - val_acc: 0.6326 - 100ms/epoch - 100ms/step\n",
            "Epoch 16/200\n",
            "1/1 - 0s - loss: 0.7776 - acc: 0.7167 - val_loss: 0.9543 - val_acc: 0.6478 - 86ms/epoch - 86ms/step\n",
            "Epoch 17/200\n",
            "1/1 - 0s - loss: 0.7141 - acc: 0.7278 - val_loss: 0.9012 - val_acc: 0.6783 - 90ms/epoch - 90ms/step\n",
            "Epoch 18/200\n",
            "1/1 - 0s - loss: 0.6209 - acc: 0.8000 - val_loss: 0.8551 - val_acc: 0.7283 - 79ms/epoch - 79ms/step\n",
            "Epoch 19/200\n",
            "1/1 - 0s - loss: 0.6101 - acc: 0.7944 - val_loss: 0.8163 - val_acc: 0.7457 - 78ms/epoch - 78ms/step\n",
            "Epoch 20/200\n",
            "1/1 - 0s - loss: 0.5434 - acc: 0.8278 - val_loss: 0.7849 - val_acc: 0.7522 - 93ms/epoch - 93ms/step\n",
            "Epoch 21/200\n",
            "1/1 - 0s - loss: 0.5369 - acc: 0.8278 - val_loss: 0.7540 - val_acc: 0.7543 - 137ms/epoch - 137ms/step\n",
            "Epoch 22/200\n",
            "1/1 - 0s - loss: 0.4466 - acc: 0.8778 - val_loss: 0.7233 - val_acc: 0.7652 - 125ms/epoch - 125ms/step\n",
            "Epoch 23/200\n",
            "1/1 - 0s - loss: 0.5035 - acc: 0.8333 - val_loss: 0.6970 - val_acc: 0.7783 - 132ms/epoch - 132ms/step\n",
            "Epoch 24/200\n",
            "1/1 - 0s - loss: 0.4036 - acc: 0.8778 - val_loss: 0.6757 - val_acc: 0.7870 - 99ms/epoch - 99ms/step\n",
            "Epoch 25/200\n",
            "1/1 - 0s - loss: 0.3746 - acc: 0.9056 - val_loss: 0.6603 - val_acc: 0.7804 - 113ms/epoch - 113ms/step\n",
            "Epoch 26/200\n",
            "1/1 - 0s - loss: 0.3245 - acc: 0.9167 - val_loss: 0.6492 - val_acc: 0.7826 - 90ms/epoch - 90ms/step\n",
            "Epoch 27/200\n",
            "1/1 - 0s - loss: 0.3004 - acc: 0.9444 - val_loss: 0.6393 - val_acc: 0.7870 - 92ms/epoch - 92ms/step\n",
            "Epoch 28/200\n",
            "1/1 - 0s - loss: 0.2791 - acc: 0.9389 - val_loss: 0.6298 - val_acc: 0.7957 - 165ms/epoch - 165ms/step\n",
            "Epoch 29/200\n",
            "1/1 - 0s - loss: 0.2494 - acc: 0.9500 - val_loss: 0.6248 - val_acc: 0.7913 - 92ms/epoch - 92ms/step\n",
            "Epoch 30/200\n",
            "1/1 - 0s - loss: 0.2258 - acc: 0.9556 - val_loss: 0.6229 - val_acc: 0.7870 - 76ms/epoch - 76ms/step\n",
            "Epoch 31/200\n",
            "1/1 - 0s - loss: 0.2310 - acc: 0.9500 - val_loss: 0.6276 - val_acc: 0.7891 - 125ms/epoch - 125ms/step\n",
            "Epoch 32/200\n",
            "1/1 - 0s - loss: 0.1873 - acc: 0.9389 - val_loss: 0.6315 - val_acc: 0.7913 - 96ms/epoch - 96ms/step\n",
            "Epoch 33/200\n",
            "1/1 - 0s - loss: 0.1778 - acc: 0.9500 - val_loss: 0.6341 - val_acc: 0.7891 - 108ms/epoch - 108ms/step\n",
            "Epoch 34/200\n",
            "1/1 - 0s - loss: 0.1933 - acc: 0.9444 - val_loss: 0.6398 - val_acc: 0.7870 - 74ms/epoch - 74ms/step\n",
            "Epoch 35/200\n",
            "1/1 - 0s - loss: 0.1875 - acc: 0.9389 - val_loss: 0.6424 - val_acc: 0.7935 - 95ms/epoch - 95ms/step\n",
            "Epoch 36/200\n",
            "1/1 - 0s - loss: 0.1801 - acc: 0.9389 - val_loss: 0.6456 - val_acc: 0.7891 - 92ms/epoch - 92ms/step\n",
            "Epoch 37/200\n",
            "1/1 - 0s - loss: 0.1171 - acc: 0.9833 - val_loss: 0.6494 - val_acc: 0.7935 - 95ms/epoch - 95ms/step\n",
            "Epoch 38/200\n",
            "1/1 - 0s - loss: 0.1111 - acc: 0.9722 - val_loss: 0.6509 - val_acc: 0.7935 - 159ms/epoch - 159ms/step\n",
            "Epoch 39/200\n",
            "1/1 - 0s - loss: 0.1688 - acc: 0.9444 - val_loss: 0.6533 - val_acc: 0.7891 - 101ms/epoch - 101ms/step\n",
            "Epoch 40/200\n",
            "1/1 - 0s - loss: 0.1205 - acc: 0.9667 - val_loss: 0.6589 - val_acc: 0.7913 - 76ms/epoch - 76ms/step\n",
            "Epoch 41/200\n",
            "1/1 - 0s - loss: 0.1978 - acc: 0.9167 - val_loss: 0.6722 - val_acc: 0.7913 - 86ms/epoch - 86ms/step\n",
            "Epoch 42/200\n",
            "1/1 - 0s - loss: 0.0997 - acc: 0.9778 - val_loss: 0.6902 - val_acc: 0.7935 - 84ms/epoch - 84ms/step\n",
            "Epoch 43/200\n",
            "1/1 - 0s - loss: 0.1028 - acc: 0.9722 - val_loss: 0.7098 - val_acc: 0.7935 - 139ms/epoch - 139ms/step\n",
            "Epoch 44/200\n",
            "1/1 - 0s - loss: 0.1278 - acc: 0.9556 - val_loss: 0.7222 - val_acc: 0.7957 - 98ms/epoch - 98ms/step\n",
            "Epoch 45/200\n",
            "1/1 - 0s - loss: 0.1082 - acc: 0.9667 - val_loss: 0.7274 - val_acc: 0.7957 - 125ms/epoch - 125ms/step\n",
            "Epoch 46/200\n",
            "1/1 - 0s - loss: 0.1077 - acc: 0.9722 - val_loss: 0.7277 - val_acc: 0.7935 - 87ms/epoch - 87ms/step\n",
            "Epoch 47/200\n",
            "1/1 - 0s - loss: 0.1037 - acc: 0.9667 - val_loss: 0.7278 - val_acc: 0.7913 - 105ms/epoch - 105ms/step\n",
            "Epoch 48/200\n",
            "1/1 - 0s - loss: 0.0887 - acc: 0.9833 - val_loss: 0.7330 - val_acc: 0.7978 - 130ms/epoch - 130ms/step\n",
            "Epoch 49/200\n",
            "1/1 - 0s - loss: 0.0662 - acc: 0.9833 - val_loss: 0.7378 - val_acc: 0.8000 - 118ms/epoch - 118ms/step\n",
            "Epoch 50/200\n",
            "1/1 - 0s - loss: 0.0792 - acc: 0.9778 - val_loss: 0.7440 - val_acc: 0.8043 - 86ms/epoch - 86ms/step\n",
            "Epoch 51/200\n",
            "1/1 - 0s - loss: 0.0538 - acc: 0.9833 - val_loss: 0.7533 - val_acc: 0.7978 - 100ms/epoch - 100ms/step\n",
            "Epoch 52/200\n",
            "1/1 - 0s - loss: 0.0702 - acc: 0.9778 - val_loss: 0.7660 - val_acc: 0.7913 - 113ms/epoch - 113ms/step\n",
            "Epoch 53/200\n",
            "1/1 - 0s - loss: 0.0821 - acc: 0.9722 - val_loss: 0.7784 - val_acc: 0.7913 - 97ms/epoch - 97ms/step\n",
            "Epoch 54/200\n",
            "1/1 - 0s - loss: 0.0449 - acc: 0.9889 - val_loss: 0.7918 - val_acc: 0.7870 - 152ms/epoch - 152ms/step\n",
            "Epoch 55/200\n",
            "1/1 - 0s - loss: 0.0849 - acc: 0.9667 - val_loss: 0.8054 - val_acc: 0.7870 - 134ms/epoch - 134ms/step\n",
            "Epoch 56/200\n",
            "1/1 - 0s - loss: 0.0583 - acc: 0.9778 - val_loss: 0.8171 - val_acc: 0.7848 - 106ms/epoch - 106ms/step\n",
            "Epoch 57/200\n",
            "1/1 - 0s - loss: 0.0546 - acc: 0.9833 - val_loss: 0.8288 - val_acc: 0.7848 - 81ms/epoch - 81ms/step\n",
            "Epoch 58/200\n",
            "1/1 - 0s - loss: 0.0776 - acc: 0.9667 - val_loss: 0.8359 - val_acc: 0.7848 - 74ms/epoch - 74ms/step\n",
            "Epoch 59/200\n",
            "1/1 - 0s - loss: 0.0524 - acc: 0.9944 - val_loss: 0.8419 - val_acc: 0.7848 - 115ms/epoch - 115ms/step\n",
            "Epoch 60/200\n",
            "1/1 - 0s - loss: 0.0567 - acc: 0.9889 - val_loss: 0.8426 - val_acc: 0.7870 - 106ms/epoch - 106ms/step\n",
            "Epoch 61/200\n",
            "1/1 - 0s - loss: 0.0302 - acc: 0.9889 - val_loss: 0.8448 - val_acc: 0.7848 - 114ms/epoch - 114ms/step\n",
            "Epoch 62/200\n",
            "1/1 - 0s - loss: 0.0614 - acc: 0.9833 - val_loss: 0.8452 - val_acc: 0.7891 - 93ms/epoch - 93ms/step\n",
            "Epoch 63/200\n",
            "1/1 - 0s - loss: 0.0428 - acc: 0.9833 - val_loss: 0.8478 - val_acc: 0.7870 - 91ms/epoch - 91ms/step\n",
            "Epoch 64/200\n",
            "1/1 - 0s - loss: 0.0359 - acc: 1.0000 - val_loss: 0.8518 - val_acc: 0.7891 - 91ms/epoch - 91ms/step\n",
            "Epoch 65/200\n",
            "1/1 - 0s - loss: 0.0408 - acc: 0.9889 - val_loss: 0.8543 - val_acc: 0.7891 - 97ms/epoch - 97ms/step\n",
            "Epoch 66/200\n",
            "1/1 - 0s - loss: 0.0525 - acc: 0.9944 - val_loss: 0.8543 - val_acc: 0.7935 - 83ms/epoch - 83ms/step\n",
            "Epoch 67/200\n",
            "1/1 - 0s - loss: 0.0440 - acc: 0.9833 - val_loss: 0.8565 - val_acc: 0.7978 - 106ms/epoch - 106ms/step\n",
            "Epoch 68/200\n",
            "1/1 - 0s - loss: 0.0213 - acc: 1.0000 - val_loss: 0.8593 - val_acc: 0.7978 - 87ms/epoch - 87ms/step\n",
            "Epoch 69/200\n",
            "1/1 - 0s - loss: 0.0624 - acc: 0.9833 - val_loss: 0.8625 - val_acc: 0.7978 - 80ms/epoch - 80ms/step\n",
            "Epoch 70/200\n",
            "1/1 - 0s - loss: 0.0426 - acc: 0.9889 - val_loss: 0.8653 - val_acc: 0.7978 - 86ms/epoch - 86ms/step\n",
            "Epoch 71/200\n",
            "1/1 - 0s - loss: 0.0266 - acc: 0.9944 - val_loss: 0.8681 - val_acc: 0.8000 - 69ms/epoch - 69ms/step\n",
            "Epoch 72/200\n",
            "1/1 - 0s - loss: 0.0561 - acc: 0.9833 - val_loss: 0.8681 - val_acc: 0.7978 - 114ms/epoch - 114ms/step\n",
            "Epoch 73/200\n",
            "1/1 - 0s - loss: 0.0327 - acc: 0.9944 - val_loss: 0.8690 - val_acc: 0.8000 - 111ms/epoch - 111ms/step\n",
            "Epoch 74/200\n",
            "1/1 - 0s - loss: 0.0372 - acc: 0.9944 - val_loss: 0.8706 - val_acc: 0.8000 - 105ms/epoch - 105ms/step\n",
            "Epoch 75/200\n",
            "1/1 - 0s - loss: 0.0521 - acc: 0.9778 - val_loss: 0.8743 - val_acc: 0.7978 - 105ms/epoch - 105ms/step\n",
            "Epoch 76/200\n",
            "1/1 - 0s - loss: 0.0218 - acc: 0.9944 - val_loss: 0.8786 - val_acc: 0.7978 - 71ms/epoch - 71ms/step\n",
            "Epoch 77/200\n",
            "1/1 - 0s - loss: 0.0320 - acc: 0.9889 - val_loss: 0.8832 - val_acc: 0.7978 - 179ms/epoch - 179ms/step\n",
            "Epoch 78/200\n",
            "1/1 - 0s - loss: 0.0515 - acc: 0.9889 - val_loss: 0.8875 - val_acc: 0.7978 - 138ms/epoch - 138ms/step\n",
            "Epoch 79/200\n",
            "1/1 - 0s - loss: 0.0622 - acc: 0.9833 - val_loss: 0.8924 - val_acc: 0.7935 - 159ms/epoch - 159ms/step\n",
            "Epoch 80/200\n",
            "1/1 - 0s - loss: 0.0251 - acc: 0.9944 - val_loss: 0.9020 - val_acc: 0.7913 - 145ms/epoch - 145ms/step\n",
            "Epoch 81/200\n",
            "1/1 - 0s - loss: 0.0394 - acc: 0.9889 - val_loss: 0.9157 - val_acc: 0.7935 - 120ms/epoch - 120ms/step\n",
            "Epoch 82/200\n",
            "1/1 - 0s - loss: 0.0332 - acc: 0.9833 - val_loss: 0.9333 - val_acc: 0.7935 - 168ms/epoch - 168ms/step\n",
            "Epoch 83/200\n",
            "1/1 - 0s - loss: 0.0264 - acc: 0.9889 - val_loss: 0.9508 - val_acc: 0.7870 - 122ms/epoch - 122ms/step\n",
            "Epoch 84/200\n",
            "1/1 - 0s - loss: 0.0366 - acc: 0.9889 - val_loss: 0.9710 - val_acc: 0.7826 - 182ms/epoch - 182ms/step\n",
            "Epoch 85/200\n",
            "1/1 - 0s - loss: 0.0287 - acc: 1.0000 - val_loss: 0.9902 - val_acc: 0.7739 - 114ms/epoch - 114ms/step\n",
            "Epoch 86/200\n",
            "1/1 - 0s - loss: 0.0469 - acc: 0.9778 - val_loss: 1.0077 - val_acc: 0.7761 - 113ms/epoch - 113ms/step\n",
            "Epoch 87/200\n",
            "1/1 - 0s - loss: 0.0496 - acc: 0.9778 - val_loss: 1.0272 - val_acc: 0.7696 - 109ms/epoch - 109ms/step\n",
            "Epoch 88/200\n",
            "1/1 - 0s - loss: 0.0529 - acc: 0.9889 - val_loss: 1.0346 - val_acc: 0.7696 - 94ms/epoch - 94ms/step\n",
            "Epoch 89/200\n",
            "1/1 - 0s - loss: 0.0221 - acc: 0.9944 - val_loss: 1.0329 - val_acc: 0.7739 - 146ms/epoch - 146ms/step\n",
            "Epoch 90/200\n",
            "1/1 - 0s - loss: 0.0302 - acc: 0.9944 - val_loss: 1.0262 - val_acc: 0.7783 - 165ms/epoch - 165ms/step\n",
            "Epoch 91/200\n",
            "1/1 - 0s - loss: 0.0620 - acc: 0.9778 - val_loss: 1.0085 - val_acc: 0.7891 - 129ms/epoch - 129ms/step\n",
            "Epoch 92/200\n",
            "1/1 - 0s - loss: 0.0270 - acc: 0.9889 - val_loss: 0.9878 - val_acc: 0.7935 - 92ms/epoch - 92ms/step\n",
            "Epoch 93/200\n",
            "1/1 - 0s - loss: 0.0245 - acc: 0.9944 - val_loss: 0.9735 - val_acc: 0.7957 - 100ms/epoch - 100ms/step\n",
            "Epoch 94/200\n",
            "1/1 - 0s - loss: 0.0838 - acc: 0.9667 - val_loss: 0.9603 - val_acc: 0.7935 - 101ms/epoch - 101ms/step\n",
            "Epoch 95/200\n",
            "1/1 - 0s - loss: 0.0422 - acc: 0.9944 - val_loss: 0.9513 - val_acc: 0.8000 - 87ms/epoch - 87ms/step\n",
            "Epoch 96/200\n",
            "1/1 - 0s - loss: 0.0211 - acc: 0.9944 - val_loss: 0.9478 - val_acc: 0.7957 - 87ms/epoch - 87ms/step\n",
            "Epoch 97/200\n",
            "1/1 - 0s - loss: 0.0293 - acc: 0.9944 - val_loss: 0.9491 - val_acc: 0.7935 - 207ms/epoch - 207ms/step\n",
            "Epoch 98/200\n",
            "1/1 - 0s - loss: 0.0243 - acc: 0.9944 - val_loss: 0.9531 - val_acc: 0.7913 - 165ms/epoch - 165ms/step\n",
            "Epoch 99/200\n",
            "1/1 - 0s - loss: 0.0287 - acc: 0.9944 - val_loss: 0.9589 - val_acc: 0.7891 - 60ms/epoch - 60ms/step\n",
            "Epoch 100/200\n",
            "1/1 - 0s - loss: 0.0367 - acc: 0.9889 - val_loss: 0.9649 - val_acc: 0.7891 - 63ms/epoch - 63ms/step\n"
          ]
        }
      ]
    },
    {
      "cell_type": "markdown",
      "source": [
        "**Plot history to view the metrics like behaviour loss of the trained model**"
      ],
      "metadata": {
        "id": "1Vd0FXgFYfyL"
      }
    },
    {
      "cell_type": "code",
      "source": [
        "sg.utils.plot_history(history)"
      ],
      "metadata": {
        "colab": {
          "base_uri": "https://localhost:8080/",
          "height": 585
        },
        "id": "sBDKCvLrXrvX",
        "outputId": "f527f193-67d9-4f56-b020-fd8bd9fda9e6"
      },
      "execution_count": 18,
      "outputs": [
        {
          "output_type": "display_data",
          "data": {
            "text/plain": [
              "<Figure size 504x576 with 2 Axes>"
            ],
            "image/png": "[encoded data removed]"
          },
          "metadata": {
            "needs_background": "light"
          }
        }
      ]
    },
    {
      "cell_type": "markdown",
      "source": [
        "**Evaluation of the test dataset**"
      ],
      "metadata": {
        "id": "lBQMH4GmYxty"
      }
    },
    {
      "cell_type": "code",
      "source": [
        "test_gen = generator.flow(test_subjects.index, test_targets)"
      ],
      "metadata": {
        "id": "Tmkg5_TXYrsg"
      },
      "execution_count": 19,
      "outputs": []
    },
    {
      "cell_type": "code",
      "source": [
        "test_metrics = model.evaluate(test_gen)\n",
        "print(\"\\nTest Set Metrics:\")\n",
        "for name, val in zip(model.metrics_names, test_metrics):\n",
        "    print(\"\\t{}: {:0.4f}\".format(name, val))"
      ],
      "metadata": {
        "colab": {
          "base_uri": "https://localhost:8080/"
        },
        "id": "wwZqMKYIY25I",
        "outputId": "308a9f34-86aa-453a-ace1-7952e40937af"
      },
      "execution_count": 20,
      "outputs": [
        {
          "output_type": "stream",
          "name": "stdout",
          "text": [
            "1/1 [==============================] - 0s 51ms/step - loss: 0.7313 - acc: 0.8177\n",
            "\n",
            "Test Set Metrics:\n",
            "\tloss: 0.7313\n",
            "\tacc: 0.8177\n"
          ]
        }
      ]
    },
    {
      "cell_type": "markdown",
      "source": [
        "**Performing predictions with the model**"
      ],
      "metadata": {
        "id": "Y-2elNLTY7dd"
      }
    },
    {
      "cell_type": "code",
      "source": [
        "all_nodes = node_subjects.index\n",
        "all_gen = generator.flow(all_nodes)\n",
        "all_predictions = model.predict(all_gen)"
      ],
      "metadata": {
        "id": "EWSRKa1OY4p_",
        "colab": {
          "base_uri": "https://localhost:8080/"
        },
        "outputId": "e6987548-5101-40f1-9978-6d603bdd57d1"
      },
      "execution_count": 21,
      "outputs": [
        {
          "output_type": "stream",
          "name": "stdout",
          "text": [
            "1/1 [==============================] - 0s 142ms/step\n"
          ]
        }
      ]
    },
    {
      "cell_type": "code",
      "source": [
        "node_predictions = target_encoding.inverse_transform(all_predictions.squeeze())"
      ],
      "metadata": {
        "id": "Vvh2tpjfZC5X"
      },
      "execution_count": 22,
      "outputs": []
    },
    {
      "cell_type": "code",
      "source": [
        "df = pd.DataFrame({\"Predicted\": node_predictions, \"True\": node_subjects})\n",
        "df.head(20)"
      ],
      "metadata": {
        "colab": {
          "base_uri": "https://localhost:8080/",
          "height": 676
        },
        "id": "5aDoH9xYZFu6",
        "outputId": "7f97756d-c1a3-4c82-af52-ab66e921475b"
      },
      "execution_count": 23,
      "outputs": [
        {
          "output_type": "execute_result",
          "data": {
            "text/plain": [
              "                      Predicted                    True\n",
              "31336           Neural_Networks         Neural_Networks\n",
              "1061127           Rule_Learning           Rule_Learning\n",
              "1106406  Reinforcement_Learning  Reinforcement_Learning\n",
              "13195    Reinforcement_Learning  Reinforcement_Learning\n",
              "37879     Probabilistic_Methods   Probabilistic_Methods\n",
              "1126012  Reinforcement_Learning   Probabilistic_Methods\n",
              "1107140                  Theory                  Theory\n",
              "1102850         Neural_Networks         Neural_Networks\n",
              "31349           Neural_Networks         Neural_Networks\n",
              "1106418                  Theory                  Theory\n",
              "1123188   Probabilistic_Methods         Neural_Networks\n",
              "1128990              Case_Based      Genetic_Algorithms\n",
              "109323    Probabilistic_Methods   Probabilistic_Methods\n",
              "217139               Case_Based              Case_Based\n",
              "31353           Neural_Networks         Neural_Networks\n",
              "32083           Neural_Networks         Neural_Networks\n",
              "1126029  Reinforcement_Learning  Reinforcement_Learning\n",
              "1118017         Neural_Networks         Neural_Networks\n",
              "49482           Neural_Networks         Neural_Networks\n",
              "753265                   Theory         Neural_Networks"
            ],
            "text/html": [
              "\n",
              "  <div id=\"df-574b3827-cea6-439d-994d-45f76bf2971b\">\n",
              "    <div class=\"colab-df-container\">\n",
              "      <div>\n",
              "<style scoped>\n",
              "    .dataframe tbody tr th:only-of-type {\n",
              "        vertical-align: middle;\n",
              "    }\n",
              "\n",
              "    .dataframe tbody tr th {\n",
              "        vertical-align: top;\n",
              "    }\n",
              "\n",
              "    .dataframe thead th {\n",
              "        text-align: right;\n",
              "    }\n",
              "</style>\n",
              "<table border=\"1\" class=\"dataframe\">\n",
              "  <thead>\n",
              "    <tr style=\"text-align: right;\">\n",
              "      <th></th>\n",
              "      <th>Predicted</th>\n",
              "      <th>True</th>\n",
              "    </tr>\n",
              "  </thead>\n",
              "  <tbody>\n",
              "    <tr>\n",
              "      <th>31336</th>\n",
              "      <td>Neural_Networks</td>\n",
              "      <td>Neural_Networks</td>\n",
              "    </tr>\n",
              "    <tr>\n",
              "      <th>1061127</th>\n",
              "      <td>Rule_Learning</td>\n",
              "      <td>Rule_Learning</td>\n",
              "    </tr>\n",
              "    <tr>\n",
              "      <th>1106406</th>\n",
              "      <td>Reinforcement_Learning</td>\n",
              "      <td>Reinforcement_Learning</td>\n",
              "    </tr>\n",
              "    <tr>\n",
              "      <th>13195</th>\n",
              "      <td>Reinforcement_Learning</td>\n",
              "      <td>Reinforcement_Learning</td>\n",
              "    </tr>\n",
              "    <tr>\n",
              "      <th>37879</th>\n",
              "      <td>Probabilistic_Methods</td>\n",
              "      <td>Probabilistic_Methods</td>\n",
              "    </tr>\n",
              "    <tr>\n",
              "      <th>1126012</th>\n",
              "      <td>Reinforcement_Learning</td>\n",
              "      <td>Probabilistic_Methods</td>\n",
              "    </tr>\n",
              "    <tr>\n",
              "      <th>1107140</th>\n",
              "      <td>Theory</td>\n",
              "      <td>Theory</td>\n",
              "    </tr>\n",
              "    <tr>\n",
              "      <th>1102850</th>\n",
              "      <td>Neural_Networks</td>\n",
              "      <td>Neural_Networks</td>\n",
              "    </tr>\n",
              "    <tr>\n",
              "      <th>31349</th>\n",
              "      <td>Neural_Networks</td>\n",
              "      <td>Neural_Networks</td>\n",
              "    </tr>\n",
              "    <tr>\n",
              "      <th>1106418</th>\n",
              "      <td>Theory</td>\n",
              "      <td>Theory</td>\n",
              "    </tr>\n",
              "    <tr>\n",
              "      <th>1123188</th>\n",
              "      <td>Probabilistic_Methods</td>\n",
              "      <td>Neural_Networks</td>\n",
              "    </tr>\n",
              "    <tr>\n",
              "      <th>1128990</th>\n",
              "      <td>Case_Based</td>\n",
              "      <td>Genetic_Algorithms</td>\n",
              "    </tr>\n",
              "    <tr>\n",
              "      <th>109323</th>\n",
              "      <td>Probabilistic_Methods</td>\n",
              "      <td>Probabilistic_Methods</td>\n",
              "    </tr>\n",
              "    <tr>\n",
              "      <th>217139</th>\n",
              "      <td>Case_Based</td>\n",
              "      <td>Case_Based</td>\n",
              "    </tr>\n",
              "    <tr>\n",
              "      <th>31353</th>\n",
              "      <td>Neural_Networks</td>\n",
              "      <td>Neural_Networks</td>\n",
              "    </tr>\n",
              "    <tr>\n",
              "      <th>32083</th>\n",
              "      <td>Neural_Networks</td>\n",
              "      <td>Neural_Networks</td>\n",
              "    </tr>\n",
              "    <tr>\n",
              "      <th>1126029</th>\n",
              "      <td>Reinforcement_Learning</td>\n",
              "      <td>Reinforcement_Learning</td>\n",
              "    </tr>\n",
              "    <tr>\n",
              "      <th>1118017</th>\n",
              "      <td>Neural_Networks</td>\n",
              "      <td>Neural_Networks</td>\n",
              "    </tr>\n",
              "    <tr>\n",
              "      <th>49482</th>\n",
              "      <td>Neural_Networks</td>\n",
              "      <td>Neural_Networks</td>\n",
              "    </tr>\n",
              "    <tr>\n",
              "      <th>753265</th>\n",
              "      <td>Theory</td>\n",
              "      <td>Neural_Networks</td>\n",
              "    </tr>\n",
              "  </tbody>\n",
              "</table>\n",
              "</div>\n",
              "      <button class=\"colab-df-convert\" onclick=\"convertToInteractive('df-574b3827-cea6-439d-994d-45f76bf2971b')\"\n",
              "              title=\"Convert this dataframe to an interactive table.\"\n",
              "              style=\"display:none;\">\n",
              "        \n",
              "  <svg xmlns=\"http://www.w3.org/2000/svg\" height=\"24px\"viewBox=\"0 0 24 24\"\n",
              "       width=\"24px\">\n",
              "    <path d=\"M0 0h24v24H0V0z\" fill=\"none\"/>\n",
              "    <path d=\"M18.56 5.44l.94 2.06.94-2.06 2.06-.94-2.06-.94-.94-2.06-.94 2.06-2.06.94zm-11 1L8.5 8.5l.94-2.06 2.06-.94-2.06-.94L8.5 2.5l-.94 2.06-2.06.94zm10 10l.94 2.06.94-2.06 2.06-.94-2.06-.94-.94-2.06-.94 2.06-2.06.94z\"/><path d=\"M17.41 7.96l-1.37-1.37c-.4-.4-.92-.59-1.43-.59-.52 0-1.04.2-1.43.59L10.3 9.45l-7.72 7.72c-.78.78-.78 2.05 0 2.83L4 21.41c.39.39.9.59 1.41.59.51 0 1.02-.2 1.41-.59l7.78-7.78 2.81-2.81c.8-.78.8-2.07 0-2.86zM5.41 20L4 18.59l7.72-7.72 1.47 1.35L5.41 20z\"/>\n",
              "  </svg>\n",
              "      </button>\n",
              "      \n",
              "  <style>\n",
              "    .colab-df-container {\n",
              "      display:flex;\n",
              "      flex-wrap:wrap;\n",
              "      gap: 12px;\n",
              "    }\n",
              "\n",
              "    .colab-df-convert {\n",
              "      background-color: #E8F0FE;\n",
              "      border: none;\n",
              "      border-radius: 50%;\n",
              "      cursor: pointer;\n",
              "      display: none;\n",
              "      fill: #1967D2;\n",
              "      height: 32px;\n",
              "      padding: 0 0 0 0;\n",
              "      width: 32px;\n",
              "    }\n",
              "\n",
              "    .colab-df-convert:hover {\n",
              "      background-color: #E2EBFA;\n",
              "      box-shadow: 0px 1px 2px rgba(60, 64, 67, 0.3), 0px 1px 3px 1px rgba(60, 64, 67, 0.15);\n",
              "      fill: #174EA6;\n",
              "    }\n",
              "\n",
              "    [theme=dark] .colab-df-convert {\n",
              "      background-color: #3B4455;\n",
              "      fill: #D2E3FC;\n",
              "    }\n",
              "\n",
              "    [theme=dark] .colab-df-convert:hover {\n",
              "      background-color: #434B5C;\n",
              "      box-shadow: 0px 1px 3px 1px rgba(0, 0, 0, 0.15);\n",
              "      filter: drop-shadow(0px 1px 2px rgba(0, 0, 0, 0.3));\n",
              "      fill: #FFFFFF;\n",
              "    }\n",
              "  </style>\n",
              "\n",
              "      <script>\n",
              "        const buttonEl =\n",
              "          document.querySelector('#df-574b3827-cea6-439d-994d-45f76bf2971b button.colab-df-convert');\n",
              "        buttonEl.style.display =\n",
              "          google.colab.kernel.accessAllowed ? 'block' : 'none';\n",
              "\n",
              "        async function convertToInteractive(key) {\n",
              "          const element = document.querySelector('#df-574b3827-cea6-439d-994d-45f76bf2971b');\n",
              "          const dataTable =\n",
              "            await google.colab.kernel.invokeFunction('convertToInteractive',\n",
              "                                                     [key], {});\n",
              "          if (!dataTable) return;\n",
              "\n",
              "          const docLinkHtml = 'Like what you see? Visit the ' +\n",
              "            '<a target=\"_blank\" href=https://colab.research.google.com/notebooks/data_table.ipynb>data table notebook</a>'\n",
              "            + ' to learn more about interactive tables.';\n",
              "          element.innerHTML = '';\n",
              "          dataTable['output_type'] = 'display_data';\n",
              "          await google.colab.output.renderOutput(dataTable, element);\n",
              "          const docLink = document.createElement('div');\n",
              "          docLink.innerHTML = docLinkHtml;\n",
              "          element.appendChild(docLink);\n",
              "        }\n",
              "      </script>\n",
              "    </div>\n",
              "  </div>\n",
              "  "
            ]
          },
          "metadata": {},
          "execution_count": 23
        }
      ]
    }
  ]
}