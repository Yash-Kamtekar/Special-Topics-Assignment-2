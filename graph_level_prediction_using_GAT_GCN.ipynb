{
  "nbformat": 4,
  "nbformat_minor": 0,
  "metadata": {
    "colab": {
      "provenance": [],
      "authorship_tag": "ABX9TyPVuEVUqbTU6gcMhSVhb9pk",
      "include_colab_link": true
    },
    "kernelspec": {
      "name": "python3",
      "display_name": "Python 3"
    },
    "language_info": {
      "name": "python"
    }
  },
  "cells": [
    {
      "cell_type": "markdown",
      "metadata": {
        "id": "view-in-github",
        "colab_type": "text"
      },
      "source": [
        "<a href=\"https://colab.research.google.com/github/Yash-Kamtekar/Special-Topics-Assignment-2/blob/main/graph_level_prediction_using_GAT_GCN.ipynb\" target=\"_parent\"><img src=\"https://colab.research.google.com/assets/colab-badge.svg\" alt=\"Open In Colab\"/></a>"
      ]
    },
    {
      "cell_type": "markdown",
      "metadata": {
        "id": "S99dtvjJFb-_"
      },
      "source": [
        "### Import packages"
      ]
    },
    {
      "cell_type": "code",
      "execution_count": 1,
      "metadata": {
        "id": "ukheCDvbFb_A"
      },
      "outputs": [],
      "source": [
        "import tensorflow as tf\n",
        "from tensorflow import keras\n",
        "from tensorflow.keras import layers\n",
        "import numpy as np\n",
        "import pandas as pd\n",
        "import os\n",
        "import warnings\n",
        "\n",
        "warnings.filterwarnings(\"ignore\")\n",
        "pd.set_option(\"display.max_columns\", 6)\n",
        "pd.set_option(\"display.max_rows\", 6)\n",
        "np.random.seed(2)"
      ]
    },
    {
      "cell_type": "markdown",
      "metadata": {
        "id": "KFCAT2Q4Fb_B"
      },
      "source": [
        "## Obtain the dataset\n"
      ]
    },
    {
      "cell_type": "code",
      "execution_count": 2,
      "metadata": {
        "id": "L3PHfYCyFb_C",
        "colab": {
          "base_uri": "https://localhost:8080/"
        },
        "outputId": "8079449b-f6e5-47b2-dd70-2f91a51ff9d5"
      },
      "outputs": [
        {
          "output_type": "stream",
          "name": "stdout",
          "text": [
            "Downloading data from https://linqs-data.soe.ucsc.edu/public/lbc/cora.tgz\n",
            "168052/168052 [==============================] - 0s 0us/step\n",
            "      target  source\n",
            "0          0      21\n",
            "1          0     905\n",
            "2          0     906\n",
            "...      ...     ...\n",
            "5426    1874    2586\n",
            "5427    1876    1874\n",
            "5428    1897    2707\n",
            "\n",
            "[5429 rows x 2 columns]\n",
            "      paper_id  term_0  term_1  ...  term_1431  term_1432  subject\n",
            "0          462       0       0  ...          0          0        2\n",
            "1         1911       0       0  ...          0          0        5\n",
            "2         2002       0       0  ...          0          0        4\n",
            "...        ...     ...     ...  ...        ...        ...      ...\n",
            "2705      2372       0       0  ...          0          0        1\n",
            "2706       955       0       0  ...          0          0        0\n",
            "2707       376       0       0  ...          0          0        2\n",
            "\n",
            "[2708 rows x 1435 columns]\n"
          ]
        }
      ],
      "source": [
        "zip_file = keras.utils.get_file(\n",
        "    fname=\"cora.tgz\",\n",
        "    origin=\"https://linqs-data.soe.ucsc.edu/public/lbc/cora.tgz\",\n",
        "    extract=True,\n",
        ")\n",
        "\n",
        "data_dir = os.path.join(os.path.dirname(zip_file), \"cora\")\n",
        "\n",
        "citations = pd.read_csv(\n",
        "    os.path.join(data_dir, \"cora.cites\"),\n",
        "    sep=\"\\t\",\n",
        "    header=None,\n",
        "    names=[\"target\", \"source\"],\n",
        ")\n",
        "\n",
        "papers = pd.read_csv(\n",
        "    os.path.join(data_dir, \"cora.content\"),\n",
        "    sep=\"\\t\",\n",
        "    header=None,\n",
        "    names=[\"paper_id\"] + [f\"term_{idx}\" for idx in range(1433)] + [\"subject\"],\n",
        ")\n",
        "\n",
        "class_values = sorted(papers[\"subject\"].unique())\n",
        "class_idx = {name: id for id, name in enumerate(class_values)}\n",
        "paper_idx = {name: idx for idx, name in enumerate(sorted(papers[\"paper_id\"].unique()))}\n",
        "\n",
        "papers[\"paper_id\"] = papers[\"paper_id\"].apply(lambda name: paper_idx[name])\n",
        "citations[\"source\"] = citations[\"source\"].apply(lambda name: paper_idx[name])\n",
        "citations[\"target\"] = citations[\"target\"].apply(lambda name: paper_idx[name])\n",
        "papers[\"subject\"] = papers[\"subject\"].apply(lambda value: class_idx[value])\n",
        "\n",
        "print(citations)\n",
        "\n",
        "print(papers)"
      ]
    },
    {
      "cell_type": "markdown",
      "metadata": {
        "id": "s1Cxk8dHFb_C"
      },
      "source": [
        "### Split the dataset"
      ]
    },
    {
      "cell_type": "code",
      "execution_count": 3,
      "metadata": {
        "id": "2M9-5WgHFb_D"
      },
      "outputs": [],
      "source": [
        "# Obtain random indices\n",
        "random_indices = np.random.permutation(range(papers.shape[0]))\n",
        "\n",
        "# 50/50 split\n",
        "train_data = papers.iloc[random_indices[: len(random_indices) // 2]]\n",
        "test_data = papers.iloc[random_indices[len(random_indices) // 2 :]]"
      ]
    },
    {
      "cell_type": "markdown",
      "metadata": {
        "id": "FkHDFGppFb_D"
      },
      "source": [
        "### Prepare the graph data"
      ]
    },
    {
      "cell_type": "code",
      "execution_count": 4,
      "metadata": {
        "id": "kuE-W1YxFb_E",
        "colab": {
          "base_uri": "https://localhost:8080/"
        },
        "outputId": "9ca50fa6-66a9-4d12-d367-846b506cdf94"
      },
      "outputs": [
        {
          "output_type": "stream",
          "name": "stdout",
          "text": [
            "Edges shape:\t\t (5429, 2)\n",
            "Node features shape: (2708, 1433)\n"
          ]
        }
      ],
      "source": [
        "# Obtain paper indices which will be used to gather node states\n",
        "# from the graph later on when training the model\n",
        "train_indices = train_data[\"paper_id\"].to_numpy()\n",
        "test_indices = test_data[\"paper_id\"].to_numpy()\n",
        "\n",
        "# Obtain ground truth labels corresponding to each paper_id\n",
        "train_labels = train_data[\"subject\"].to_numpy()\n",
        "test_labels = test_data[\"subject\"].to_numpy()\n",
        "\n",
        "# Define graph, namely an edge tensor and a node feature tensor\n",
        "edges = tf.convert_to_tensor(citations[[\"target\", \"source\"]])\n",
        "node_states = tf.convert_to_tensor(papers.sort_values(\"paper_id\").iloc[:, 1:-1])\n",
        "\n",
        "# Print shapes of the graph\n",
        "print(\"Edges shape:\\t\\t\", edges.shape)\n",
        "print(\"Node features shape:\", node_states.shape)"
      ]
    },
    {
      "cell_type": "markdown",
      "metadata": {
        "id": "vt8148GzFb_E"
      },
      "source": [
        "## Build the model\n",
        "\n",
        "GAT takes as input a graph (namely an edge tensor and a node feature tensor) and\n",
        "outputs \\[updated\\] node states. The node states are, for each target node, neighborhood\n",
        "aggregated information of *N*-hops (where *N* is decided by the number of layers of the\n",
        "GAT). Importantly, in contrast to the\n",
        "[graph convolutional network] (GCN)\n",
        "the GAT makes use of attention machanisms\n",
        "to aggregate information from neighboring nodes (or *source nodes*). In other words, instead of simply\n",
        "averaging/summing node states from source nodes to the target node.\n",
        "GAT first applies normalized attention scores to each source node state and then sums."
      ]
    },
    {
      "cell_type": "markdown",
      "metadata": {
        "id": "W6AVRdoVFb_E"
      },
      "source": [
        "### (Multi-head) graph attention layer\n",
        "\n",
        "The GAT model implements multi-head graph attention layers. The `MultiHeadGraphAttention`\n",
        "layer is simply a concatenation (or averaging) of multiple graph attention layers\n",
        "(`GraphAttention`), each with separate learnable weights `W`. The `GraphAttention` layer\n",
        "does the following:\n",
        "\n",
        "Consider inputs node states `h^{l}` which are linearly transformed by `W^{l}`, resulting in `z^{l}`.\n",
        "\n",
        "For each target node:\n",
        "\n",
        "1. Computes pair-wise attention scores `a^{l}^{T}(z^{l}_{i}||z^{l}_{j})` for all `j`,\n",
        "resulting in `e_{ij}` (for all `j`).\n",
        "`||` denotes a concatenation, `_{i}` corresponds to the target node, and `_{j}`\n",
        "corresponds to a given 1-hop neighbor/source node.\n",
        "2. Normalizes `e_{ij}` via softmax, so as the sum of incoming edges' attention scores\n",
        "to the target node (`sum_{k}{e_{norm}_{ik}}`) will add up to 1.\n",
        "3. Applies attention scores `e_{norm}_{ij}` to `z_{j}`\n",
        "and adds it to the new target node state `h^{l+1}_{i}`, for all `j`."
      ]
    },
    {
      "cell_type": "code",
      "execution_count": 5,
      "metadata": {
        "id": "jpO2M0_BFb_F"
      },
      "outputs": [],
      "source": [
        "\n",
        "class GraphAttention(layers.Layer):\n",
        "    def __init__(\n",
        "        self,\n",
        "        units,\n",
        "        kernel_initializer=\"glorot_uniform\",\n",
        "        kernel_regularizer=None,\n",
        "        **kwargs,\n",
        "    ):\n",
        "        super().__init__(**kwargs)\n",
        "        self.units = units\n",
        "        self.kernel_initializer = keras.initializers.get(kernel_initializer)\n",
        "        self.kernel_regularizer = keras.regularizers.get(kernel_regularizer)\n",
        "\n",
        "    def build(self, input_shape):\n",
        "\n",
        "        self.kernel = self.add_weight(\n",
        "            shape=(input_shape[0][-1], self.units),\n",
        "            trainable=True,\n",
        "            initializer=self.kernel_initializer,\n",
        "            regularizer=self.kernel_regularizer,\n",
        "            name=\"kernel\",\n",
        "        )\n",
        "        self.kernel_attention = self.add_weight(\n",
        "            shape=(self.units * 2, 1),\n",
        "            trainable=True,\n",
        "            initializer=self.kernel_initializer,\n",
        "            regularizer=self.kernel_regularizer,\n",
        "            name=\"kernel_attention\",\n",
        "        )\n",
        "        self.built = True\n",
        "\n",
        "    def call(self, inputs):\n",
        "        node_states, edges = inputs\n",
        "\n",
        "        # Linearly transform node states\n",
        "        node_states_transformed = tf.matmul(node_states, self.kernel)\n",
        "\n",
        "        # (1) Compute pair-wise attention scores\n",
        "        node_states_expanded = tf.gather(node_states_transformed, edges)\n",
        "        node_states_expanded = tf.reshape(\n",
        "            node_states_expanded, (tf.shape(edges)[0], -1)\n",
        "        )\n",
        "        attention_scores = tf.nn.leaky_relu(\n",
        "            tf.matmul(node_states_expanded, self.kernel_attention)\n",
        "        )\n",
        "        attention_scores = tf.squeeze(attention_scores, -1)\n",
        "\n",
        "        # (2) Normalize attention scores\n",
        "        attention_scores = tf.math.exp(tf.clip_by_value(attention_scores, -2, 2))\n",
        "        attention_scores_sum = tf.math.unsorted_segment_sum(\n",
        "            data=attention_scores,\n",
        "            segment_ids=edges[:, 0],\n",
        "            num_segments=tf.reduce_max(edges[:, 0]) + 1,\n",
        "        )\n",
        "        attention_scores_sum = tf.repeat(\n",
        "            attention_scores_sum, tf.math.bincount(tf.cast(edges[:, 0], \"int32\"))\n",
        "        )\n",
        "        attention_scores_norm = attention_scores / attention_scores_sum\n",
        "\n",
        "        # (3) Gather node states of neighbors, apply attention scores and aggregate\n",
        "        node_states_neighbors = tf.gather(node_states_transformed, edges[:, 1])\n",
        "        out = tf.math.unsorted_segment_sum(\n",
        "            data=node_states_neighbors * attention_scores_norm[:, tf.newaxis],\n",
        "            segment_ids=edges[:, 0],\n",
        "            num_segments=tf.shape(node_states)[0],\n",
        "        )\n",
        "        return out\n",
        "\n",
        "\n",
        "class MultiHeadGraphAttention(layers.Layer):\n",
        "    def __init__(self, units, num_heads=8, merge_type=\"concat\", **kwargs):\n",
        "        super().__init__(**kwargs)\n",
        "        self.num_heads = num_heads\n",
        "        self.merge_type = merge_type\n",
        "        self.attention_layers = [GraphAttention(units) for _ in range(num_heads)]\n",
        "\n",
        "    def call(self, inputs):\n",
        "        atom_features, pair_indices = inputs\n",
        "\n",
        "        # Obtain outputs from each attention head\n",
        "        outputs = [\n",
        "            attention_layer([atom_features, pair_indices])\n",
        "            for attention_layer in self.attention_layers\n",
        "        ]\n",
        "        # Concatenate or average the node states from each head\n",
        "        if self.merge_type == \"concat\":\n",
        "            outputs = tf.concat(outputs, axis=-1)\n",
        "        else:\n",
        "            outputs = tf.reduce_mean(tf.stack(outputs, axis=-1), axis=-1)\n",
        "        # Activate and return node states\n",
        "        return tf.nn.relu(outputs)\n"
      ]
    },
    {
      "cell_type": "markdown",
      "metadata": {
        "id": "42Ps5Yz6Fb_F"
      },
      "source": [
        "### Implement training logic with custom train_step, test_step, and predict_step methods\n"
      ]
    },
    {
      "cell_type": "code",
      "execution_count": 6,
      "metadata": {
        "id": "WILw3oZUFb_F"
      },
      "outputs": [],
      "source": [
        "\n",
        "class GraphAttentionNetwork(keras.Model):\n",
        "    def __init__(\n",
        "        self,\n",
        "        node_states,\n",
        "        edges,\n",
        "        hidden_units,\n",
        "        num_heads,\n",
        "        num_layers,\n",
        "        output_dim,\n",
        "        **kwargs,\n",
        "    ):\n",
        "        super().__init__(**kwargs)\n",
        "        self.node_states = node_states\n",
        "        self.edges = edges\n",
        "        self.preprocess = layers.Dense(hidden_units * num_heads, activation=\"relu\")\n",
        "        self.attention_layers = [\n",
        "            MultiHeadGraphAttention(hidden_units, num_heads) for _ in range(num_layers)\n",
        "        ]\n",
        "        self.output_layer = layers.Dense(output_dim)\n",
        "\n",
        "    def call(self, inputs):\n",
        "        node_states, edges = inputs\n",
        "        x = self.preprocess(node_states)\n",
        "        for attention_layer in self.attention_layers:\n",
        "            x = attention_layer([x, edges]) + x\n",
        "        outputs = self.output_layer(x)\n",
        "        return outputs\n",
        "\n",
        "    def train_step(self, data):\n",
        "        indices, labels = data\n",
        "\n",
        "        with tf.GradientTape() as tape:\n",
        "            # Forward pass\n",
        "            outputs = self([self.node_states, self.edges])\n",
        "            # Compute loss\n",
        "            loss = self.compiled_loss(labels, tf.gather(outputs, indices))\n",
        "        # Compute gradients\n",
        "        grads = tape.gradient(loss, self.trainable_weights)\n",
        "        # Apply gradients (update weights)\n",
        "        optimizer.apply_gradients(zip(grads, self.trainable_weights))\n",
        "        # Update metric(s)\n",
        "        self.compiled_metrics.update_state(labels, tf.gather(outputs, indices))\n",
        "\n",
        "        return {m.name: m.result() for m in self.metrics}\n",
        "\n",
        "    def predict_step(self, data):\n",
        "        indices = data\n",
        "        # Forward pass\n",
        "        outputs = self([self.node_states, self.edges])\n",
        "        # Compute probabilities\n",
        "        return tf.nn.softmax(tf.gather(outputs, indices))\n",
        "\n",
        "    def test_step(self, data):\n",
        "        indices, labels = data\n",
        "        # Forward pass\n",
        "        outputs = self([self.node_states, self.edges])\n",
        "        # Compute loss\n",
        "        loss = self.compiled_loss(labels, tf.gather(outputs, indices))\n",
        "        # Update metric(s)\n",
        "        self.compiled_metrics.update_state(labels, tf.gather(outputs, indices))\n",
        "\n",
        "        return {m.name: m.result() for m in self.metrics}\n"
      ]
    },
    {
      "cell_type": "markdown",
      "metadata": {
        "id": "vSCOZzDfFb_G"
      },
      "source": [
        "### Train and evaluate"
      ]
    },
    {
      "cell_type": "code",
      "execution_count": 7,
      "metadata": {
        "id": "puyDNSn0Fb_G",
        "colab": {
          "base_uri": "https://localhost:8080/"
        },
        "outputId": "39b35d60-b776-453a-c0d9-b088d2714ee8"
      },
      "outputs": [
        {
          "output_type": "stream",
          "name": "stdout",
          "text": [
            "Epoch 1/100\n",
            "5/5 - 24s - loss: 1.8678 - acc: 0.2430 - val_loss: 1.5990 - val_acc: 0.3897 - 24s/epoch - 5s/step\n",
            "Epoch 2/100\n",
            "5/5 - 6s - loss: 1.2767 - acc: 0.5681 - val_loss: 1.0646 - val_acc: 0.6471 - 6s/epoch - 1s/step\n",
            "Epoch 3/100\n",
            "5/5 - 6s - loss: 0.7366 - acc: 0.7931 - val_loss: 0.8950 - val_acc: 0.7574 - 6s/epoch - 1s/step\n",
            "Epoch 4/100\n",
            "5/5 - 6s - loss: 0.4547 - acc: 0.8571 - val_loss: 0.7001 - val_acc: 0.7941 - 6s/epoch - 1s/step\n",
            "Epoch 5/100\n",
            "5/5 - 6s - loss: 0.2616 - acc: 0.9245 - val_loss: 0.8247 - val_acc: 0.7941 - 6s/epoch - 1s/step\n",
            "Epoch 6/100\n",
            "5/5 - 6s - loss: 0.1642 - acc: 0.9589 - val_loss: 0.7665 - val_acc: 0.7868 - 6s/epoch - 1s/step\n",
            "Epoch 7/100\n",
            "5/5 - 6s - loss: 0.1035 - acc: 0.9836 - val_loss: 0.7385 - val_acc: 0.7794 - 6s/epoch - 1s/step\n",
            "Epoch 8/100\n",
            "5/5 - 6s - loss: 0.0704 - acc: 0.9893 - val_loss: 0.7190 - val_acc: 0.8088 - 6s/epoch - 1s/step\n",
            "Epoch 9/100\n",
            "5/5 - 6s - loss: 0.0488 - acc: 0.9934 - val_loss: 0.7072 - val_acc: 0.8162 - 6s/epoch - 1s/step\n",
            "Epoch 10/100\n",
            "5/5 - 6s - loss: 0.0300 - acc: 0.9975 - val_loss: 0.7149 - val_acc: 0.8235 - 6s/epoch - 1s/step\n",
            "Epoch 11/100\n",
            "5/5 - 6s - loss: 0.0245 - acc: 0.9992 - val_loss: 0.7325 - val_acc: 0.8162 - 6s/epoch - 1s/step\n",
            "Epoch 12/100\n",
            "5/5 - 6s - loss: 0.0183 - acc: 0.9992 - val_loss: 0.7258 - val_acc: 0.8235 - 6s/epoch - 1s/step\n",
            "Epoch 13/100\n",
            "5/5 - 6s - loss: 0.0145 - acc: 0.9992 - val_loss: 0.7423 - val_acc: 0.8235 - 6s/epoch - 1s/step\n",
            "Epoch 14/100\n",
            "5/5 - 6s - loss: 0.0121 - acc: 0.9992 - val_loss: 0.7686 - val_acc: 0.8235 - 6s/epoch - 1s/step\n",
            "Epoch 15/100\n",
            "5/5 - 6s - loss: 0.0102 - acc: 0.9992 - val_loss: 0.7861 - val_acc: 0.8235 - 6s/epoch - 1s/step\n",
            "----------------------------------------------------------------------------\n",
            "Test Accuracy 78.4%\n"
          ]
        }
      ],
      "source": [
        "# Define hyper-parameters\n",
        "HIDDEN_UNITS = 100\n",
        "NUM_HEADS = 8\n",
        "NUM_LAYERS = 3\n",
        "OUTPUT_DIM = len(class_values)\n",
        "\n",
        "NUM_EPOCHS = 100\n",
        "BATCH_SIZE = 256\n",
        "VALIDATION_SPLIT = 0.1\n",
        "LEARNING_RATE = 3e-1\n",
        "MOMENTUM = 0.9\n",
        "\n",
        "loss_fn = keras.losses.SparseCategoricalCrossentropy(from_logits=True)\n",
        "optimizer = keras.optimizers.SGD(LEARNING_RATE, momentum=MOMENTUM)\n",
        "accuracy_fn = keras.metrics.SparseCategoricalAccuracy(name=\"acc\")\n",
        "early_stopping = keras.callbacks.EarlyStopping(\n",
        "    monitor=\"val_acc\", min_delta=1e-5, patience=5, restore_best_weights=True\n",
        ")\n",
        "\n",
        "# Build model\n",
        "gat_model = GraphAttentionNetwork(\n",
        "    node_states, edges, HIDDEN_UNITS, NUM_HEADS, NUM_LAYERS, OUTPUT_DIM\n",
        ")\n",
        "\n",
        "# Compile model\n",
        "gat_model.compile(loss=loss_fn, optimizer=optimizer, metrics=[accuracy_fn])\n",
        "\n",
        "gat_model.fit(\n",
        "    x=train_indices,\n",
        "    y=train_labels,\n",
        "    validation_split=VALIDATION_SPLIT,\n",
        "    batch_size=BATCH_SIZE,\n",
        "    epochs=NUM_EPOCHS,\n",
        "    callbacks=[early_stopping],\n",
        "    verbose=2,\n",
        ")\n",
        "\n",
        "_, test_accuracy = gat_model.evaluate(x=test_indices, y=test_labels, verbose=0)\n",
        "\n",
        "print(\"--\" * 38 + f\"\\nTest Accuracy {test_accuracy*100:.1f}%\")"
      ]
    },
    {
      "cell_type": "markdown",
      "metadata": {
        "id": "usjfOhIeFb_G"
      },
      "source": [
        "### Predict (probabilities)"
      ]
    },
    {
      "cell_type": "code",
      "execution_count": 8,
      "metadata": {
        "id": "e7708i0QFb_G",
        "colab": {
          "base_uri": "https://localhost:8080/"
        },
        "outputId": "55d5e3d2-cb07-4e61-d83e-54fc015d4cca"
      },
      "outputs": [
        {
          "output_type": "stream",
          "name": "stdout",
          "text": [
            "43/43 [==============================] - 18s 344ms/step\n",
            "Example 1: Probabilistic_Methods\n",
            "\tProbability of Case_Based               =   2.906%\n",
            "\tProbability of Genetic_Algorithms       =   0.060%\n",
            "\tProbability of Neural_Networks          =  26.547%\n",
            "\tProbability of Probabilistic_Methods    =  69.555%\n",
            "\tProbability of Reinforcement_Learning   =   0.218%\n",
            "\tProbability of Rule_Learning            =   0.011%\n",
            "\tProbability of Theory                   =   0.703%\n",
            "------------------------------------------------------------\n",
            "Example 2: Genetic_Algorithms\n",
            "\tProbability of Case_Based               =   0.008%\n",
            "\tProbability of Genetic_Algorithms       =  99.989%\n",
            "\tProbability of Neural_Networks          =   0.001%\n",
            "\tProbability of Probabilistic_Methods    =   0.000%\n",
            "\tProbability of Reinforcement_Learning   =   0.001%\n",
            "\tProbability of Rule_Learning            =   0.001%\n",
            "\tProbability of Theory                   =   0.000%\n",
            "------------------------------------------------------------\n",
            "Example 3: Theory\n",
            "\tProbability of Case_Based               =  10.082%\n",
            "\tProbability of Genetic_Algorithms       =   0.465%\n",
            "\tProbability of Neural_Networks          =   0.126%\n",
            "\tProbability of Probabilistic_Methods    =  38.503%\n",
            "\tProbability of Reinforcement_Learning   =   0.332%\n",
            "\tProbability of Rule_Learning            =   7.270%\n",
            "\tProbability of Theory                   =  43.223%\n",
            "------------------------------------------------------------\n",
            "Example 4: Neural_Networks\n",
            "\tProbability of Case_Based               =   0.000%\n",
            "\tProbability of Genetic_Algorithms       =   0.000%\n",
            "\tProbability of Neural_Networks          =  99.990%\n",
            "\tProbability of Probabilistic_Methods    =   0.008%\n",
            "\tProbability of Reinforcement_Learning   =   0.000%\n",
            "\tProbability of Rule_Learning            =   0.000%\n",
            "\tProbability of Theory                   =   0.001%\n",
            "------------------------------------------------------------\n",
            "Example 5: Theory\n",
            "\tProbability of Case_Based               =  16.641%\n",
            "\tProbability of Genetic_Algorithms       =   4.607%\n",
            "\tProbability of Neural_Networks          =   7.157%\n",
            "\tProbability of Probabilistic_Methods    =  26.391%\n",
            "\tProbability of Reinforcement_Learning   =   0.887%\n",
            "\tProbability of Rule_Learning            =  26.199%\n",
            "\tProbability of Theory                   =  18.118%\n",
            "------------------------------------------------------------\n",
            "Example 6: Genetic_Algorithms\n",
            "\tProbability of Case_Based               =   0.000%\n",
            "\tProbability of Genetic_Algorithms       = 100.000%\n",
            "\tProbability of Neural_Networks          =   0.000%\n",
            "\tProbability of Probabilistic_Methods    =   0.000%\n",
            "\tProbability of Reinforcement_Learning   =   0.000%\n",
            "\tProbability of Rule_Learning            =   0.000%\n",
            "\tProbability of Theory                   =   0.000%\n",
            "------------------------------------------------------------\n",
            "Example 7: Neural_Networks\n",
            "\tProbability of Case_Based               =   0.011%\n",
            "\tProbability of Genetic_Algorithms       =   0.003%\n",
            "\tProbability of Neural_Networks          =  99.668%\n",
            "\tProbability of Probabilistic_Methods    =   0.311%\n",
            "\tProbability of Reinforcement_Learning   =   0.001%\n",
            "\tProbability of Rule_Learning            =   0.001%\n",
            "\tProbability of Theory                   =   0.005%\n",
            "------------------------------------------------------------\n",
            "Example 8: Genetic_Algorithms\n",
            "\tProbability of Case_Based               =   0.000%\n",
            "\tProbability of Genetic_Algorithms       = 100.000%\n",
            "\tProbability of Neural_Networks          =   0.000%\n",
            "\tProbability of Probabilistic_Methods    =   0.000%\n",
            "\tProbability of Reinforcement_Learning   =   0.000%\n",
            "\tProbability of Rule_Learning            =   0.000%\n",
            "\tProbability of Theory                   =   0.000%\n",
            "------------------------------------------------------------\n",
            "Example 9: Theory\n",
            "\tProbability of Case_Based               =   2.288%\n",
            "\tProbability of Genetic_Algorithms       =   1.258%\n",
            "\tProbability of Neural_Networks          =  45.381%\n",
            "\tProbability of Probabilistic_Methods    =  45.116%\n",
            "\tProbability of Reinforcement_Learning   =   1.840%\n",
            "\tProbability of Rule_Learning            =   0.588%\n",
            "\tProbability of Theory                   =   3.530%\n",
            "------------------------------------------------------------\n",
            "Example 10: Case_Based\n",
            "\tProbability of Case_Based               =  99.970%\n",
            "\tProbability of Genetic_Algorithms       =   0.000%\n",
            "\tProbability of Neural_Networks          =   0.002%\n",
            "\tProbability of Probabilistic_Methods    =   0.018%\n",
            "\tProbability of Reinforcement_Learning   =   0.000%\n",
            "\tProbability of Rule_Learning            =   0.008%\n",
            "\tProbability of Theory                   =   0.001%\n",
            "------------------------------------------------------------\n"
          ]
        }
      ],
      "source": [
        "test_probs = gat_model.predict(x=test_indices)\n",
        "\n",
        "mapping = {v: k for (k, v) in class_idx.items()}\n",
        "\n",
        "for i, (probs, label) in enumerate(zip(test_probs[:10], test_labels[:10])):\n",
        "    print(f\"Example {i+1}: {mapping[label]}\")\n",
        "    for j, c in zip(probs, class_idx.keys()):\n",
        "        print(f\"\\tProbability of {c: <24} = {j*100:7.3f}%\")\n",
        "    print(\"---\" * 20)"
      ]
    },
    {
      "cell_type": "markdown",
      "metadata": {
        "id": "yKVGINNUFb_G"
      },
      "source": [
        "## Conclusions\n",
        "\n",
        "The GAT model correctly predicts the subjects of the papers\n",
        "based on what they cite, about 80% of the time."
      ]
    }
  ]
}